{
 "cells": [
  {
   "cell_type": "markdown",
   "id": "93105e17-9203-463c-934b-6de20f3129b5",
   "metadata": {},
   "source": [
    "# Python Tutorial\n",
    "## Tutorial 1 : Python Basics"
   ]
  },
  {
   "cell_type": "code",
   "execution_count": 10,
   "id": "19301624-5df7-4cc3-b3f0-72f31088ff63",
   "metadata": {},
   "outputs": [
    {
     "name": "stdout",
     "output_type": "stream",
     "text": [
      "a + b: 12\n",
      "a - b: 8\n",
      "a / b: 5.0\n",
      "a * b: 20\n",
      "a ** b: 100\n",
      "a % b: 0\n"
     ]
    }
   ],
   "source": [
    "a=10\n",
    "b=2\n",
    "print (\"a + b:\", a + b)\n",
    "print (\"a - b:\", a - b)\n",
    "print (\"a / b:\", a / b)\n",
    "print (\"a * b:\", a * b)\n",
    "print (\"a ** b:\", a ** b)\n",
    "print (\"a % b:\", a % b)\n",
    "print (\"a + b:\", a + b)"
   ]
  },
  {
   "cell_type": "code",
   "execution_count": 11,
   "id": "57e51e37-9617-48a7-9c6a-e1b77e2d0d19",
   "metadata": {},
   "outputs": [
    {
     "data": {
      "text/plain": [
       "str"
      ]
     },
     "execution_count": 11,
     "metadata": {},
     "output_type": "execute_result"
    }
   ],
   "source": [
    "c=\"hello\"\n",
    "type(c)"
   ]
  },
  {
   "cell_type": "code",
   "execution_count": 19,
   "id": "7b1bf749-acc1-4501-82e6-a7a571854363",
   "metadata": {},
   "outputs": [
    {
     "name": "stdout",
     "output_type": "stream",
     "text": [
      "My first name is Gaurav and last name is Maharjan.\n",
      "My first name is Gaurav and last name is Maharjan.\n"
     ]
    }
   ],
   "source": [
    "first_name=\"Gaurav\"\n",
    "last_name=\"Maharjan\"\n",
    "print (\"My first name is {} and last name is {}.\".format(first_name,last_name))\n",
    "print (\"My first name is {first} and last name is {last}.\".format(first=first_name,last=last_name))"
   ]
  },
  {
   "cell_type": "code",
   "execution_count": 23,
   "id": "345dfed0-ff10-45cc-a86b-4edf855ae001",
   "metadata": {},
   "outputs": [
    {
     "data": {
      "text/plain": [
       "6"
      ]
     },
     "execution_count": 23,
     "metadata": {},
     "output_type": "execute_result"
    }
   ],
   "source": [
    "len ('Gaurav')"
   ]
  },
  {
   "cell_type": "code",
   "execution_count": 21,
   "id": "1eae209b-8322-4b7d-af2a-69a0a9fd7efe",
   "metadata": {},
   "outputs": [
    {
     "data": {
      "text/plain": [
       "list"
      ]
     },
     "execution_count": 21,
     "metadata": {},
     "output_type": "execute_result"
    }
   ],
   "source": [
    "type([1,2,3,4])"
   ]
  },
  {
   "cell_type": "markdown",
   "id": "2e6c04b0-8126-439c-8f33-58c820e2adde",
   "metadata": {},
   "source": [
    "## Tutorial 2 : Python List and Boolean Variables "
   ]
  },
  {
   "cell_type": "markdown",
   "id": "23586191-1ab7-479f-a231-f0f42564a2cc",
   "metadata": {},
   "source": [
    "### Boolean Variables"
   ]
  },
  {
   "cell_type": "code",
   "execution_count": 1,
   "id": "17cc1625",
   "metadata": {},
   "outputs": [
    {
     "data": {
      "text/plain": [
       "False"
      ]
     },
     "execution_count": 1,
     "metadata": {},
     "output_type": "execute_result"
    }
   ],
   "source": [
    "bool()"
   ]
  },
  {
   "cell_type": "code",
   "execution_count": 2,
   "id": "7492f3af-dce9-45f0-9cff-653d32c490cd",
   "metadata": {},
   "outputs": [
    {
     "data": {
      "text/plain": [
       "False"
      ]
     },
     "execution_count": 2,
     "metadata": {},
     "output_type": "execute_result"
    }
   ],
   "source": [
    "True and False"
   ]
  },
  {
   "cell_type": "code",
   "execution_count": 3,
   "id": "9dd4e99e-e1bf-4d72-bfa3-db1df051fe0d",
   "metadata": {},
   "outputs": [
    {
     "data": {
      "text/plain": [
       "bool"
      ]
     },
     "execution_count": 3,
     "metadata": {},
     "output_type": "execute_result"
    }
   ],
   "source": [
    "type(True)"
   ]
  },
  {
   "cell_type": "code",
   "execution_count": 8,
   "id": "cd0329bf-2cfc-4d13-b9f5-d16d07487312",
   "metadata": {},
   "outputs": [],
   "source": [
    "my_str=\"Grammer\""
   ]
  },
  {
   "cell_type": "code",
   "execution_count": 10,
   "id": "0b644cf8-00c5-4c7a-b93f-07164ca795b3",
   "metadata": {},
   "outputs": [
    {
     "name": "stdout",
     "output_type": "stream",
     "text": [
      "True\n",
      "True\n",
      "False\n",
      "True\n",
      "False\n",
      "False\n",
      "False\n",
      "False\n",
      "True\n"
     ]
    }
   ],
   "source": [
    "print(my_str.isalnum()) #check if all char are number\n",
    "print(my_str.isalpha()) #check if all char in the string are alphabetic\n",
    "print(my_str.isdigit()) #test if string contains digits\n",
    "print(my_str.istitle()) #test if string contains title words\n",
    "print(my_str.isupper()) #test if string contains uppercase\n",
    "print(my_str.islower()) #test if string contains lowercase\n",
    "print(my_str.isspace()) #test if string contains spaces\n",
    "print(my_str.endswith('d')) #test if string ends with 'd'\n",
    "print(my_str.startswith('G')) #test if string starts with 'G'"
   ]
  },
  {
   "cell_type": "code",
   "execution_count": 11,
   "id": "9ae5af1a-0bb6-4dce-aac5-af9fd15cfacb",
   "metadata": {},
   "outputs": [
    {
     "data": {
      "text/plain": [
       "True"
      ]
     },
     "execution_count": 11,
     "metadata": {},
     "output_type": "execute_result"
    }
   ],
   "source": [
    "True and True"
   ]
  },
  {
   "cell_type": "code",
   "execution_count": 12,
   "id": "9027856e-2419-4c58-9de8-6df85fb44cff",
   "metadata": {},
   "outputs": [
    {
     "data": {
      "text/plain": [
       "False"
      ]
     },
     "execution_count": 12,
     "metadata": {},
     "output_type": "execute_result"
    }
   ],
   "source": [
    "True and False"
   ]
  },
  {
   "cell_type": "code",
   "execution_count": 13,
   "id": "8bfcedc7-5905-41f0-944e-10c16a6a219a",
   "metadata": {
    "scrolled": true
   },
   "outputs": [
    {
     "data": {
      "text/plain": [
       "False"
      ]
     },
     "execution_count": 13,
     "metadata": {},
     "output_type": "execute_result"
    }
   ],
   "source": [
    "False and False"
   ]
  },
  {
   "cell_type": "code",
   "execution_count": 14,
   "id": "0497ced4-19cf-4e28-b959-1abb6030041f",
   "metadata": {},
   "outputs": [
    {
     "data": {
      "text/plain": [
       "False"
      ]
     },
     "execution_count": 14,
     "metadata": {},
     "output_type": "execute_result"
    }
   ],
   "source": [
    "False and True"
   ]
  },
  {
   "cell_type": "code",
   "execution_count": 15,
   "id": "e073e857-7cfe-45ce-a4b3-48b54912fc78",
   "metadata": {},
   "outputs": [
    {
     "data": {
      "text/plain": [
       "True"
      ]
     },
     "execution_count": 15,
     "metadata": {},
     "output_type": "execute_result"
    }
   ],
   "source": [
    "True or False"
   ]
  },
  {
   "cell_type": "markdown",
   "id": "43380de5-06e0-4ee0-8216-109fe67cde6b",
   "metadata": {},
   "source": [
    "### Lists"
   ]
  },
  {
   "cell_type": "code",
   "execution_count": 16,
   "id": "e6f7bd51-7d7b-4132-bcde-cccb2c58f2f9",
   "metadata": {},
   "outputs": [
    {
     "data": {
      "text/plain": [
       "list"
      ]
     },
     "execution_count": 16,
     "metadata": {},
     "output_type": "execute_result"
    }
   ],
   "source": [
    "lst_eg=[]\n",
    "type(lst_eg)"
   ]
  },
  {
   "cell_type": "code",
   "execution_count": 17,
   "id": "964c68c4-0eff-4fab-84cf-098fa6db718f",
   "metadata": {},
   "outputs": [
    {
     "data": {
      "text/plain": [
       "5"
      ]
     },
     "execution_count": 17,
     "metadata": {},
     "output_type": "execute_result"
    }
   ],
   "source": [
    "lst=[1,2,3,4,5]\n",
    "len(lst)"
   ]
  },
  {
   "cell_type": "code",
   "execution_count": 23,
   "id": "74362717-9f4d-4e1c-a4c9-3b83585a57c2",
   "metadata": {},
   "outputs": [
    {
     "data": {
      "text/plain": [
       "[1, 2, 3, 4, 'add', 'add', 5, 6, 6, 6, 6, 6, 8, 9]"
      ]
     },
     "execution_count": 23,
     "metadata": {},
     "output_type": "execute_result"
    }
   ],
   "source": [
    "lst.append(6) #add the item at the end of the list\n",
    "lst[2] #gives the 2nd indexed value\n",
    "lst[1:] #gives the value starting from index 1\n",
    "lst[2:5] #gives the value ranging from index 2 to index 5\n",
    "lst.insert(4,\"add\") #add the \"add\" value in the 4th index\n",
    "lst.extend([8,9]) #adds the multiple values in the list as extending the list with another list\n",
    "lst"
   ]
  },
  {
   "cell_type": "markdown",
   "id": "9593026d-b25d-44c1-8d71-ab551048a699",
   "metadata": {},
   "source": [
    "### Various Operations that we can perform in List"
   ]
  },
  {
   "cell_type": "code",
   "execution_count": 24,
   "id": "39093c29-f8e5-4506-958a-abaaf1601a58",
   "metadata": {},
   "outputs": [],
   "source": [
    "lst=[1,2,3,4,5]"
   ]
  },
  {
   "cell_type": "code",
   "execution_count": 25,
   "id": "b87f521f-2d58-43a8-8f8c-f8483a7af597",
   "metadata": {},
   "outputs": [
    {
     "data": {
      "text/plain": [
       "15"
      ]
     },
     "execution_count": 25,
     "metadata": {},
     "output_type": "execute_result"
    }
   ],
   "source": [
    "sum(lst)"
   ]
  },
  {
   "cell_type": "code",
   "execution_count": 26,
   "id": "d9ef685e-0e71-4527-a4f9-21c5178e92c4",
   "metadata": {},
   "outputs": [
    {
     "data": {
      "text/plain": [
       "5"
      ]
     },
     "execution_count": 26,
     "metadata": {},
     "output_type": "execute_result"
    }
   ],
   "source": [
    "lst.pop()"
   ]
  },
  {
   "cell_type": "code",
   "execution_count": 27,
   "id": "53c24bc0-33c6-4283-86c4-867788778863",
   "metadata": {},
   "outputs": [
    {
     "data": {
      "text/plain": [
       "[1, 2, 3, 4]"
      ]
     },
     "execution_count": 27,
     "metadata": {},
     "output_type": "execute_result"
    }
   ],
   "source": [
    "lst"
   ]
  },
  {
   "cell_type": "code",
   "execution_count": 28,
   "id": "0b698b69-5552-46f0-b53e-1383e4e935ee",
   "metadata": {},
   "outputs": [
    {
     "data": {
      "text/plain": [
       "1"
      ]
     },
     "execution_count": 28,
     "metadata": {},
     "output_type": "execute_result"
    }
   ],
   "source": [
    "lst.pop(0)"
   ]
  },
  {
   "cell_type": "code",
   "execution_count": 29,
   "id": "05e64021-b819-4c1c-bc04-11fe5acfce90",
   "metadata": {},
   "outputs": [
    {
     "data": {
      "text/plain": [
       "[2, 3, 4]"
      ]
     },
     "execution_count": 29,
     "metadata": {},
     "output_type": "execute_result"
    }
   ],
   "source": [
    "lst"
   ]
  },
  {
   "cell_type": "code",
   "execution_count": 32,
   "id": "9805b2e6-c849-4920-aaab-44a64f399bbb",
   "metadata": {},
   "outputs": [
    {
     "data": {
      "text/plain": [
       "1"
      ]
     },
     "execution_count": 32,
     "metadata": {},
     "output_type": "execute_result"
    }
   ],
   "source": [
    "lst.count(2)"
   ]
  },
  {
   "cell_type": "code",
   "execution_count": 33,
   "id": "a8962166-ca48-4366-869f-96aba80e7ea2",
   "metadata": {},
   "outputs": [
    {
     "data": {
      "text/plain": [
       "1"
      ]
     },
     "execution_count": 33,
     "metadata": {},
     "output_type": "execute_result"
    }
   ],
   "source": [
    "lst.index(3)"
   ]
  },
  {
   "cell_type": "code",
   "execution_count": 34,
   "id": "ee212931-fc8b-43b5-83a5-971def2d9e3a",
   "metadata": {},
   "outputs": [
    {
     "data": {
      "text/plain": [
       "2"
      ]
     },
     "execution_count": 34,
     "metadata": {},
     "output_type": "execute_result"
    }
   ],
   "source": [
    "min(lst)"
   ]
  },
  {
   "cell_type": "markdown",
   "id": "963733e3-cb35-4f05-80ba-05d644eee26f",
   "metadata": {},
   "source": [
    "## Tutorial 3: Python sets, dictionaries and tuples"
   ]
  },
  {
   "cell_type": "markdown",
   "id": "7fd29107-a6bb-4776-8841-15013f463500",
   "metadata": {},
   "source": [
    "### Sets"
   ]
  },
  {
   "cell_type": "code",
   "execution_count": 1,
   "id": "0cadfcb2-7615-480b-9495-48847b361635",
   "metadata": {},
   "outputs": [
    {
     "name": "stdout",
     "output_type": "stream",
     "text": [
      "set()\n",
      "<class 'set'>\n"
     ]
    }
   ],
   "source": [
    "set_var=set()\n",
    "print(set_var)\n",
    "print(type(set_var))"
   ]
  },
  {
   "cell_type": "code",
   "execution_count": 2,
   "id": "18b4ff6f-a5d9-4615-971d-19a214390863",
   "metadata": {},
   "outputs": [
    {
     "data": {
      "text/plain": [
       "{1, 2, 3, 4}"
      ]
     },
     "execution_count": 2,
     "metadata": {},
     "output_type": "execute_result"
    }
   ],
   "source": [
    "set_var={1,2,3,4,3}\n",
    "set_var"
   ]
  },
  {
   "cell_type": "code",
   "execution_count": 3,
   "id": "5392bee7-fd53-4d89-b142-6c1219a4bea5",
   "metadata": {},
   "outputs": [
    {
     "name": "stdout",
     "output_type": "stream",
     "text": [
      "{'Avengers', 'IronMan', 'Batman'}\n"
     ]
    }
   ],
   "source": [
    "set_var={\"Avengers\",\"IronMan\",\"Batman\"}\n",
    "print(set_var)"
   ]
  },
  {
   "cell_type": "code",
   "execution_count": 5,
   "id": "27e72675-40a5-4eee-b398-24cd7f149588",
   "metadata": {},
   "outputs": [
    {
     "data": {
      "text/plain": [
       "{'Avengers', 'Batman', 'Hulk', 'IronMan'}"
      ]
     },
     "execution_count": 5,
     "metadata": {},
     "output_type": "execute_result"
    }
   ],
   "source": [
    "#inbuilt function in sets\n",
    "set_var.add(\"Hulk\")\n",
    "set_var"
   ]
  },
  {
   "cell_type": "code",
   "execution_count": 6,
   "id": "e2503503-bf35-4301-a208-371ce8ce9ab9",
   "metadata": {},
   "outputs": [],
   "source": [
    "set_var1={\"Avengers1\",\"IronMan\",\"Batman\"}\n",
    "set_var2={\"Avengers\",\"IronMan\",\"Batman2\"}"
   ]
  },
  {
   "cell_type": "code",
   "execution_count": 7,
   "id": "0dd1cc3f-3116-42bb-83a5-fcd183805256",
   "metadata": {},
   "outputs": [
    {
     "data": {
      "text/plain": [
       "{'Avengers', 'Batman2'}"
      ]
     },
     "execution_count": 7,
     "metadata": {},
     "output_type": "execute_result"
    }
   ],
   "source": [
    "set_var2.difference(set_var1) #this doesnt update the set_var2"
   ]
  },
  {
   "cell_type": "code",
   "execution_count": 8,
   "id": "a87b0ace-0fbb-40b6-9010-9d2e7ea39379",
   "metadata": {},
   "outputs": [
    {
     "data": {
      "text/plain": [
       "{'Avengers', 'Batman2'}"
      ]
     },
     "execution_count": 8,
     "metadata": {},
     "output_type": "execute_result"
    }
   ],
   "source": [
    "set_var2.difference_update(set_var1)\n",
    "set_var2"
   ]
  },
  {
   "cell_type": "markdown",
   "id": "f577d983-a539-4bb0-8395-20a9843b8925",
   "metadata": {},
   "source": [
    "### Dictionaries"
   ]
  },
  {
   "cell_type": "code",
   "execution_count": 10,
   "id": "07633eee-7277-4268-b652-6ff78ed9e232",
   "metadata": {},
   "outputs": [
    {
     "data": {
      "text/plain": [
       "dict"
      ]
     },
     "execution_count": 10,
     "metadata": {},
     "output_type": "execute_result"
    }
   ],
   "source": [
    "dic={}\n",
    "type(dic)"
   ]
  },
  {
   "cell_type": "code",
   "execution_count": 14,
   "id": "6c92ead5-9bdf-4cb3-b78b-e474cde29bf4",
   "metadata": {},
   "outputs": [
    {
     "data": {
      "text/plain": [
       "dict"
      ]
     },
     "execution_count": 14,
     "metadata": {},
     "output_type": "execute_result"
    }
   ],
   "source": [
    "my_dict={'one':\"hero\",'two':\"villan\"}\n",
    "type(my_dict)"
   ]
  },
  {
   "cell_type": "code",
   "execution_count": 17,
   "id": "56bb754e-6c7b-43b1-90b4-ed296a17fe7c",
   "metadata": {},
   "outputs": [
    {
     "data": {
      "text/plain": [
       "'hero'"
      ]
     },
     "execution_count": 17,
     "metadata": {},
     "output_type": "execute_result"
    }
   ],
   "source": [
    "my_dict['one']"
   ]
  },
  {
   "cell_type": "code",
   "execution_count": 18,
   "id": "6e1373c5-144a-46f2-bd45-491772bb88d4",
   "metadata": {},
   "outputs": [
    {
     "name": "stdout",
     "output_type": "stream",
     "text": [
      "one\n",
      "two\n"
     ]
    }
   ],
   "source": [
    "for x in my_dict:\n",
    "    print(x)"
   ]
  },
  {
   "cell_type": "code",
   "execution_count": 19,
   "id": "fbda6e8c-e6a7-4300-9ef0-24dc851564be",
   "metadata": {},
   "outputs": [
    {
     "name": "stdout",
     "output_type": "stream",
     "text": [
      "hero\n",
      "villan\n"
     ]
    }
   ],
   "source": [
    "for x in my_dict.values():\n",
    "    print(x)"
   ]
  },
  {
   "cell_type": "code",
   "execution_count": 20,
   "id": "aeb15c89-6bf5-4953-98c0-cd55dc6ee0f5",
   "metadata": {},
   "outputs": [
    {
     "name": "stdout",
     "output_type": "stream",
     "text": [
      "('one', 'hero')\n",
      "('two', 'villan')\n"
     ]
    }
   ],
   "source": [
    "for x in my_dict.items():\n",
    "    print(x)"
   ]
  },
  {
   "cell_type": "code",
   "execution_count": 21,
   "id": "9d803811-0081-4124-b63a-6f695725deaf",
   "metadata": {},
   "outputs": [],
   "source": [
    "#adding items in dict\n",
    "my_dict['three']=\"sideman\""
   ]
  },
  {
   "cell_type": "code",
   "execution_count": 22,
   "id": "cdc80118-6bb0-48e2-a80b-8bf348a32053",
   "metadata": {},
   "outputs": [
    {
     "data": {
      "text/plain": [
       "{'one': 'hero', 'two': 'villan', 'three': 'sideman'}"
      ]
     },
     "execution_count": 22,
     "metadata": {},
     "output_type": "execute_result"
    }
   ],
   "source": [
    "my_dict"
   ]
  },
  {
   "cell_type": "code",
   "execution_count": 23,
   "id": "6d3ecd83-2043-4979-b714-9899c9f594ea",
   "metadata": {},
   "outputs": [
    {
     "data": {
      "text/plain": [
       "{'one': {1: 'I'}, 'two': {2: 'II'}, 'three': {3: 'III'}}"
      ]
     },
     "execution_count": 23,
     "metadata": {},
     "output_type": "execute_result"
    }
   ],
   "source": [
    "#Nested dictionary\n",
    "\n",
    "set1={1:'I'}\n",
    "set2={2:'II'}\n",
    "set3={3:'III'}\n",
    "final_set={'one':set1,'two':set2,'three':set3}\n",
    "final_set"
   ]
  },
  {
   "cell_type": "code",
   "execution_count": 24,
   "id": "88357872-964a-465d-8593-e3497d08952e",
   "metadata": {},
   "outputs": [
    {
     "name": "stdout",
     "output_type": "stream",
     "text": [
      "{1: 'I'}\n"
     ]
    }
   ],
   "source": [
    "#access items in dict\n",
    "print(final_set['one'])"
   ]
  },
  {
   "cell_type": "code",
   "execution_count": 27,
   "id": "6e858184-be9c-41fc-a68b-9cdff3ba0fb6",
   "metadata": {},
   "outputs": [
    {
     "name": "stdout",
     "output_type": "stream",
     "text": [
      "II\n"
     ]
    }
   ],
   "source": [
    "print(final_set['two'][2])"
   ]
  },
  {
   "cell_type": "markdown",
   "id": "39ee557d-efc6-4bb9-8772-d3a60901a8f8",
   "metadata": {},
   "source": [
    "### Tuples"
   ]
  },
  {
   "cell_type": "code",
   "execution_count": 28,
   "id": "3dec790c-dae2-4867-8a0d-069ecf1d9a2f",
   "metadata": {},
   "outputs": [
    {
     "data": {
      "text/plain": [
       "tuple"
      ]
     },
     "execution_count": 28,
     "metadata": {},
     "output_type": "execute_result"
    }
   ],
   "source": [
    "#create an empty tuples\n",
    "my_tup=tuple()\n",
    "type(my_tup)"
   ]
  },
  {
   "cell_type": "code",
   "execution_count": 30,
   "id": "57e235db-2a4a-4f77-999c-e25f79a82f3b",
   "metadata": {},
   "outputs": [
    {
     "data": {
      "text/plain": [
       "('a', 'b', 'c')"
      ]
     },
     "execution_count": 30,
     "metadata": {},
     "output_type": "execute_result"
    }
   ],
   "source": [
    "my_tup=('a','b','c')\n",
    "my_tup"
   ]
  },
  {
   "cell_type": "code",
   "execution_count": 31,
   "id": "c3db9784-e7aa-41f4-840e-6e6b37b2b966",
   "metadata": {},
   "outputs": [
    {
     "data": {
      "text/plain": [
       "1"
      ]
     },
     "execution_count": 31,
     "metadata": {},
     "output_type": "execute_result"
    }
   ],
   "source": [
    "#inbuilt functions\n",
    "my_tup.count('a')"
   ]
  },
  {
   "cell_type": "code",
   "execution_count": 32,
   "id": "0229f886-cec5-487e-a5d6-8189339b1d20",
   "metadata": {},
   "outputs": [
    {
     "data": {
      "text/plain": [
       "2"
      ]
     },
     "execution_count": 32,
     "metadata": {},
     "output_type": "execute_result"
    }
   ],
   "source": [
    "my_tup.index('c')"
   ]
  }
 ],
 "metadata": {
  "kernelspec": {
   "display_name": "Python 3 (ipykernel)",
   "language": "python",
   "name": "python3"
  },
  "language_info": {
   "codemirror_mode": {
    "name": "ipython",
    "version": 3
   },
   "file_extension": ".py",
   "mimetype": "text/x-python",
   "name": "python",
   "nbconvert_exporter": "python",
   "pygments_lexer": "ipython3",
   "version": "3.12.7"
  }
 },
 "nbformat": 4,
 "nbformat_minor": 5
}
